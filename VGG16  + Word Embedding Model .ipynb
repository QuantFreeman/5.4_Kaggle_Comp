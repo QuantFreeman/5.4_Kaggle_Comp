{
 "cells": [
  {
   "cell_type": "code",
   "execution_count": 3,
   "metadata": {},
   "outputs": [],
   "source": [
    "from tensorflow.keras.preprocessing import image\n",
    "from tensorflow.keras.applications.vgg16 import VGG16\n",
    "from tensorflow.keras.applications.vgg16 import preprocess_input\n",
    "import numpy as np\n",
    "import pandas as pd\n",
    "from sklearn.cluster import KMeans\n",
    "from sklearn.neighbors import KNeighborsClassifier\n",
    "import os, shutil, glob, os.path\n",
    "from PIL import Image as pil_image\n",
    "from sklearn.decomposition import PCA\n",
    "from tqdm import tqdm\n",
    "\n",
    "import gc\n",
    "\n",
    "import pickle\n",
    "\n",
    "import nltk\n",
    "import re\n",
    "from nltk.corpus import stopwords\n",
    "from sklearn.feature_extraction.text import TfidfVectorizer, CountVectorizer"
   ]
  },
  {
   "cell_type": "code",
   "execution_count": 9,
   "metadata": {},
   "outputs": [],
   "source": [
    "# Variable \n",
    "\n",
    "image.LOAD_TRUNCATED_IMAGES = True \n",
    "model = VGG16(weights='imagenet', include_top=False)\n",
    "imdir = \"../data/train_images/\"\n",
    "df = pd.read_csv(\"../data/train.csv\")\n",
    "y = df.label_group\n",
    "number_clusters = 50"
   ]
  },
  {
   "cell_type": "code",
   "execution_count": 20,
   "metadata": {},
   "outputs": [],
   "source": [
    "#add path to df\n",
    "df['path'] = imdir + df.image\n",
    "\n",
    "#list every label targets\n",
    "tmp = df.groupby(['label_group'])['posting_id'].unique().to_dict()\n",
    "df['targets'] = df['label_group'].map(tmp)\n",
    "df['targets'] = df['targets'].apply(lambda x: ' '.join(x))"
   ]
  },
  {
   "cell_type": "code",
   "execution_count": 11,
   "metadata": {},
   "outputs": [
    {
     "data": {
      "text/plain": [
       "'../data/train_images/00039780dfc94d01db8676fe789ecd05.jpg'"
      ]
     },
     "execution_count": 11,
     "metadata": {},
     "output_type": "execute_result"
    }
   ],
   "source": [
    "df.path[1]"
   ]
  },
  {
   "cell_type": "code",
   "execution_count": 12,
   "metadata": {},
   "outputs": [
    {
     "name": "stdout",
     "output_type": "stream",
     "text": [
      "    Status: 34249 / 34250\r"
     ]
    }
   ],
   "source": [
    "# Loop over files and get features\n",
    "#filelist = glob.glob(os.path.join(imdir, '*.jpg'))\n",
    "#filelist.sort()\n",
    "featurelist = []\n",
    "for i, imagepath in enumerate(df.path):\n",
    "    print(\"    Status: %s / %s\" %(i, len(df.path)), end=\"\\r\")\n",
    "    img = image.load_img(imagepath, target_size=(224, 224))\n",
    "    img_data = image.img_to_array(img)\n",
    "    img_data = np.expand_dims(img_data, axis=0)\n",
    "    img_data = preprocess_input(img_data)\n",
    "    features = np.array(model.predict(img_data))\n",
    "    featurelist.append(features.flatten())"
   ]
  },
  {
   "cell_type": "code",
   "execution_count": null,
   "metadata": {},
   "outputs": [],
   "source": [
    "#save file into pickle\n",
    "# with open(\"featurelist.txt\", \"wb\") as fp:   #Pickling\n",
    "#     pickle.dump(featurelist, fp)\n",
    " \n",
    "# with open(\"test.txt\", \"rb\") as fp:   # Unpickling\n",
    "#     b = pickle.load(fp)"
   ]
  },
  {
   "cell_type": "code",
   "execution_count": 87,
   "metadata": {},
   "outputs": [],
   "source": [
    "# image preds (KNN)\n",
    "# original threshold: 3.4\n",
    "# original KNN: 50\n",
    "\n",
    "\"\"\"\n",
    "To do: \n",
    "    Tune params\n",
    "    Implement cosine version (?)\n",
    "\"\"\"\n",
    "\n",
    "def get_image_predictions(df, x, y):\n",
    "    \n",
    "    KNN = 50\n",
    "    threshold = 3.4\n",
    "\n",
    "    # model = NearestNeighbors(n_neighbors = KNN)\n",
    "    model = KNeighborsClassifier(n_neighbors= KNN)\n",
    "    model.fit(x,y)\n",
    "    distances, indices = model.kneighbors(x)\n",
    "    predictions = []\n",
    "    for k in range(x.shape[0]):\n",
    "        idx = np.where(distances[k,] < threshold)[0]\n",
    "        ids = indices[k,idx]\n",
    "        posting_ids = df['posting_id'].iloc[ids].values\n",
    "        predictions.append(posting_ids)\n",
    "    del model, distances, indices\n",
    "    gc.collect()\n",
    "    return predictions\n",
    "\n",
    "# text preds (cosine)\n",
    "# original threshold: 0.7\n",
    "# original max_feat: 25_000\n",
    "\n",
    "\"\"\"\n",
    "To do:\n",
    "    Implement KNN version\n",
    "    Tune params\n",
    "    understand Chunk size (not important)\n",
    "\"\"\"\n",
    "def get_text_predictions(df, max_features = 25_000):\n",
    "    stopwords_list = stopwords.words('english') + stopwords.words('indonesian')\n",
    "    model = TfidfVectorizer(stop_words = stopwords_list, binary = True, max_features = max_features)\n",
    "    \n",
    "    text_embeddings = model.fit_transform(df['title']).toarray()\n",
    "    preds = []\n",
    "    # magic number\n",
    "    CHUNK = 1024*4\n",
    "    print('Finding similar titles...')\n",
    "    # discern # of chunks\n",
    "    CTS = len(df)//CHUNK\n",
    "    if len(df)%CHUNK!=0: CTS += 1\n",
    "    for j in range( CTS ):\n",
    "        # start pos for chunk idx\n",
    "        a = j*CHUNK\n",
    "        # end pos for chunk idx\n",
    "        b = (j+1)*CHUNK\n",
    "        # change to end of input if necessary\n",
    "        b = min(b,len(df))\n",
    "        print('chunk',a,'to',b)\n",
    "        # COSINE SIMILARITY DISTANCE\n",
    "        # matrix multiply(text emb & transposed chunk) then transpose\n",
    "        cts = np.matmul( text_embeddings, text_embeddings[a:b].T ).T\n",
    "        for k in range(b-a):\n",
    "            # find where cosine sim > 0.7\n",
    "            IDX = np.where(cts[k,]>0.7)[0]\n",
    "            # save to o\n",
    "            o = df.iloc[IDX].posting_id.values\n",
    "            # append to preds\n",
    "            preds.append(o)\n",
    "    # delet model/text emb\n",
    "    del model,text_embeddings\n",
    "    # garb collect\n",
    "    gc.collect()\n",
    "    return preds\n",
    "\n",
    "#combine prediction into 1 row\n",
    "\n",
    "def combine_predictions(df):\n",
    "    x = np.concatenate([df['img_prediction'], df['text_prediction']])\n",
    "    return ' '.join( np.unique(x) )\n",
    "\n",
    "def f1_score(y_true, y_pred):\n",
    "    y_true = y_true.apply(lambda x: set(x.split()))\n",
    "    y_pred = y_pred.apply(lambda x: set(x.split()))\n",
    "    \n",
    "    intersection = np.array([len(x[0] & x[1]) for x in zip(y_true, y_pred)])\n",
    "    \n",
    "    len_y_pred = y_pred.apply(lambda x: len(x)).values\n",
    "    len_y_true = y_true.apply(lambda x: len(x)).values\n",
    "    \n",
    "    f1 = 2 * intersection / (len_y_pred + len_y_true)\n",
    "    return f1"
   ]
  },
  {
   "cell_type": "code",
   "execution_count": 25,
   "metadata": {
    "collapsed": true,
    "jupyter": {
     "outputs_hidden": true
    }
   },
   "outputs": [
    {
     "ename": "KeyboardInterrupt",
     "evalue": "",
     "output_type": "error",
     "traceback": [
      "\u001b[1;31m---------------------------------------------------------------------------\u001b[0m",
      "\u001b[1;31mKeyboardInterrupt\u001b[0m                         Traceback (most recent call last)",
      "\u001b[1;32m<ipython-input-25-6cb275c44822>\u001b[0m in \u001b[0;36m<module>\u001b[1;34m\u001b[0m\n\u001b[0;32m      1\u001b[0m \u001b[1;31m# convert featurelist into a matrix for processing\u001b[0m\u001b[1;33m\u001b[0m\u001b[1;33m\u001b[0m\u001b[1;33m\u001b[0m\u001b[0m\n\u001b[1;32m----> 2\u001b[1;33m \u001b[0mx\u001b[0m \u001b[1;33m=\u001b[0m \u001b[0mnp\u001b[0m\u001b[1;33m.\u001b[0m\u001b[0mstack\u001b[0m\u001b[1;33m(\u001b[0m\u001b[0mfeaturelist\u001b[0m\u001b[1;33m,\u001b[0m \u001b[0maxis\u001b[0m\u001b[1;33m=\u001b[0m\u001b[1;36m0\u001b[0m \u001b[1;33m)\u001b[0m\u001b[1;33m\u001b[0m\u001b[1;33m\u001b[0m\u001b[0m\n\u001b[0m\u001b[0;32m      3\u001b[0m \u001b[1;33m\u001b[0m\u001b[0m\n\u001b[0;32m      4\u001b[0m \u001b[1;31m#get image prediction\u001b[0m\u001b[1;33m\u001b[0m\u001b[1;33m\u001b[0m\u001b[1;33m\u001b[0m\u001b[0m\n\u001b[0;32m      5\u001b[0m \u001b[0mimage_preds\u001b[0m \u001b[1;33m=\u001b[0m \u001b[0mget_image_predictions\u001b[0m\u001b[1;33m(\u001b[0m\u001b[0mdf\u001b[0m\u001b[1;33m,\u001b[0m \u001b[0mx\u001b[0m\u001b[1;33m,\u001b[0m \u001b[0my\u001b[0m\u001b[1;33m,\u001b[0m \u001b[0mthreshold\u001b[0m \u001b[1;33m=\u001b[0m \u001b[1;36m3.4\u001b[0m\u001b[1;33m)\u001b[0m\u001b[1;33m\u001b[0m\u001b[1;33m\u001b[0m\u001b[0m\n",
      "\u001b[1;32m<__array_function__ internals>\u001b[0m in \u001b[0;36mstack\u001b[1;34m(*args, **kwargs)\u001b[0m\n",
      "\u001b[1;32mC:\\ProgramData\\Anaconda3\\envs\\tf-gpu\\lib\\site-packages\\numpy\\core\\shape_base.py\u001b[0m in \u001b[0;36mstack\u001b[1;34m(arrays, axis, out)\u001b[0m\n\u001b[0;32m    432\u001b[0m     \u001b[0msl\u001b[0m \u001b[1;33m=\u001b[0m \u001b[1;33m(\u001b[0m\u001b[0mslice\u001b[0m\u001b[1;33m(\u001b[0m\u001b[1;32mNone\u001b[0m\u001b[1;33m)\u001b[0m\u001b[1;33m,\u001b[0m\u001b[1;33m)\u001b[0m \u001b[1;33m*\u001b[0m \u001b[0maxis\u001b[0m \u001b[1;33m+\u001b[0m \u001b[1;33m(\u001b[0m\u001b[0m_nx\u001b[0m\u001b[1;33m.\u001b[0m\u001b[0mnewaxis\u001b[0m\u001b[1;33m,\u001b[0m\u001b[1;33m)\u001b[0m\u001b[1;33m\u001b[0m\u001b[1;33m\u001b[0m\u001b[0m\n\u001b[0;32m    433\u001b[0m     \u001b[0mexpanded_arrays\u001b[0m \u001b[1;33m=\u001b[0m \u001b[1;33m[\u001b[0m\u001b[0marr\u001b[0m\u001b[1;33m[\u001b[0m\u001b[0msl\u001b[0m\u001b[1;33m]\u001b[0m \u001b[1;32mfor\u001b[0m \u001b[0marr\u001b[0m \u001b[1;32min\u001b[0m \u001b[0marrays\u001b[0m\u001b[1;33m]\u001b[0m\u001b[1;33m\u001b[0m\u001b[1;33m\u001b[0m\u001b[0m\n\u001b[1;32m--> 434\u001b[1;33m     \u001b[1;32mreturn\u001b[0m \u001b[0m_nx\u001b[0m\u001b[1;33m.\u001b[0m\u001b[0mconcatenate\u001b[0m\u001b[1;33m(\u001b[0m\u001b[0mexpanded_arrays\u001b[0m\u001b[1;33m,\u001b[0m \u001b[0maxis\u001b[0m\u001b[1;33m=\u001b[0m\u001b[0maxis\u001b[0m\u001b[1;33m,\u001b[0m \u001b[0mout\u001b[0m\u001b[1;33m=\u001b[0m\u001b[0mout\u001b[0m\u001b[1;33m)\u001b[0m\u001b[1;33m\u001b[0m\u001b[1;33m\u001b[0m\u001b[0m\n\u001b[0m\u001b[0;32m    435\u001b[0m \u001b[1;33m\u001b[0m\u001b[0m\n\u001b[0;32m    436\u001b[0m \u001b[1;33m\u001b[0m\u001b[0m\n",
      "\u001b[1;32m<__array_function__ internals>\u001b[0m in \u001b[0;36mconcatenate\u001b[1;34m(*args, **kwargs)\u001b[0m\n",
      "\u001b[1;31mKeyboardInterrupt\u001b[0m: "
     ]
    }
   ],
   "source": [
    "# convert featurelist into a matrix for processing\n",
    "x = np.stack(featurelist, axis=0 )\n",
    "\n",
    "# get predictions \n",
    "image_preds = get_image_predictions(df, x, y, threshold = 3.4)\n",
    "text_preds = get_text_predictions(df, max_features = 25_000)"
   ]
  },
  {
   "cell_type": "code",
   "execution_count": 27,
   "metadata": {},
   "outputs": [],
   "source": [
    "df['img_prediction'] = image_preds\n",
    "df['text_prediction'] = text_preds"
   ]
  },
  {
   "cell_type": "code",
   "execution_count": 29,
   "metadata": {},
   "outputs": [],
   "source": [
    "df['matches'] = df.apply(combine_predictions, axis = 1)"
   ]
  },
  {
   "cell_type": "code",
   "execution_count": 31,
   "metadata": {},
   "outputs": [],
   "source": [
    "f1 = f1_score(df.targets, df.matches)"
   ]
  },
  {
   "cell_type": "code",
   "execution_count": 32,
   "metadata": {},
   "outputs": [
    {
     "data": {
      "text/plain": [
       "0.6288451402918852"
      ]
     },
     "execution_count": 32,
     "metadata": {},
     "output_type": "execute_result"
    }
   ],
   "source": [
    "f1.mean()\n",
    "\"\"\"\n",
    "Current best: 0.6288451402918852\n",
    "(original setup)\n",
    "\"\"\"\""
   ]
  },
  {
   "cell_type": "code",
   "execution_count": 70,
   "metadata": {},
   "outputs": [
    {
     "data": {
      "text/html": [
       "<div>\n",
       "<style scoped>\n",
       "    .dataframe tbody tr th:only-of-type {\n",
       "        vertical-align: middle;\n",
       "    }\n",
       "\n",
       "    .dataframe tbody tr th {\n",
       "        vertical-align: top;\n",
       "    }\n",
       "\n",
       "    .dataframe thead th {\n",
       "        text-align: right;\n",
       "    }\n",
       "</style>\n",
       "<table border=\"1\" class=\"dataframe\">\n",
       "  <thead>\n",
       "    <tr style=\"text-align: right;\">\n",
       "      <th></th>\n",
       "      <th>posting_id</th>\n",
       "      <th>image</th>\n",
       "      <th>image_phash</th>\n",
       "      <th>title</th>\n",
       "      <th>label_group</th>\n",
       "      <th>path</th>\n",
       "      <th>targets</th>\n",
       "      <th>img_prediction</th>\n",
       "      <th>text_prediction</th>\n",
       "      <th>matches</th>\n",
       "    </tr>\n",
       "  </thead>\n",
       "  <tbody>\n",
       "    <tr>\n",
       "      <th>0</th>\n",
       "      <td>train_129225211</td>\n",
       "      <td>0000a68812bc7e98c42888dfb1c07da0.jpg</td>\n",
       "      <td>94974f937d4c2433</td>\n",
       "      <td>Paper Bag Victoria Secret</td>\n",
       "      <td>249114794</td>\n",
       "      <td>../data/train_images/0000a68812bc7e98c42888dfb...</td>\n",
       "      <td>train_129225211 train_2278313361</td>\n",
       "      <td>[train_129225211]</td>\n",
       "      <td>[train_129225211, train_2278313361]</td>\n",
       "      <td>train_129225211 train_2278313361</td>\n",
       "    </tr>\n",
       "    <tr>\n",
       "      <th>1</th>\n",
       "      <td>train_3386243561</td>\n",
       "      <td>00039780dfc94d01db8676fe789ecd05.jpg</td>\n",
       "      <td>af3f9460c2838f0f</td>\n",
       "      <td>Double Tape 3M VHB 12 mm x 4,5 m ORIGINAL / DO...</td>\n",
       "      <td>2937985045</td>\n",
       "      <td>../data/train_images/00039780dfc94d01db8676fe7...</td>\n",
       "      <td>train_3386243561 train_3423213080</td>\n",
       "      <td>[train_3386243561]</td>\n",
       "      <td>[train_3386243561]</td>\n",
       "      <td>train_3386243561</td>\n",
       "    </tr>\n",
       "    <tr>\n",
       "      <th>2</th>\n",
       "      <td>train_2288590299</td>\n",
       "      <td>000a190fdd715a2a36faed16e2c65df7.jpg</td>\n",
       "      <td>b94cb00ed3e50f78</td>\n",
       "      <td>Maling TTS Canned Pork Luncheon Meat 397 gr</td>\n",
       "      <td>2395904891</td>\n",
       "      <td>../data/train_images/000a190fdd715a2a36faed16e...</td>\n",
       "      <td>train_2288590299 train_3803689425</td>\n",
       "      <td>[train_2288590299]</td>\n",
       "      <td>[train_2288590299]</td>\n",
       "      <td>train_2288590299</td>\n",
       "    </tr>\n",
       "    <tr>\n",
       "      <th>3</th>\n",
       "      <td>train_2406599165</td>\n",
       "      <td>00117e4fc239b1b641ff08340b429633.jpg</td>\n",
       "      <td>8514fc58eafea283</td>\n",
       "      <td>Daster Batik Lengan pendek - Motif Acak / Camp...</td>\n",
       "      <td>4093212188</td>\n",
       "      <td>../data/train_images/00117e4fc239b1b641ff08340...</td>\n",
       "      <td>train_2406599165 train_3342059966</td>\n",
       "      <td>[train_2406599165]</td>\n",
       "      <td>[train_2406599165, train_3576714541, train_150...</td>\n",
       "      <td>train_1508100548 train_1744956981 train_240659...</td>\n",
       "    </tr>\n",
       "    <tr>\n",
       "      <th>4</th>\n",
       "      <td>train_3369186413</td>\n",
       "      <td>00136d1cf4edede0203f32f05f660588.jpg</td>\n",
       "      <td>a6f319f924ad708c</td>\n",
       "      <td>Nescafe \\xc3\\x89clair Latte 220ml</td>\n",
       "      <td>3648931069</td>\n",
       "      <td>../data/train_images/00136d1cf4edede0203f32f05...</td>\n",
       "      <td>train_3369186413 train_921438619</td>\n",
       "      <td>[train_3369186413]</td>\n",
       "      <td>[train_3369186413]</td>\n",
       "      <td>train_3369186413</td>\n",
       "    </tr>\n",
       "  </tbody>\n",
       "</table>\n",
       "</div>"
      ],
      "text/plain": [
       "         posting_id                                 image       image_phash  \\\n",
       "0   train_129225211  0000a68812bc7e98c42888dfb1c07da0.jpg  94974f937d4c2433   \n",
       "1  train_3386243561  00039780dfc94d01db8676fe789ecd05.jpg  af3f9460c2838f0f   \n",
       "2  train_2288590299  000a190fdd715a2a36faed16e2c65df7.jpg  b94cb00ed3e50f78   \n",
       "3  train_2406599165  00117e4fc239b1b641ff08340b429633.jpg  8514fc58eafea283   \n",
       "4  train_3369186413  00136d1cf4edede0203f32f05f660588.jpg  a6f319f924ad708c   \n",
       "\n",
       "                                               title  label_group  \\\n",
       "0                          Paper Bag Victoria Secret    249114794   \n",
       "1  Double Tape 3M VHB 12 mm x 4,5 m ORIGINAL / DO...   2937985045   \n",
       "2        Maling TTS Canned Pork Luncheon Meat 397 gr   2395904891   \n",
       "3  Daster Batik Lengan pendek - Motif Acak / Camp...   4093212188   \n",
       "4                  Nescafe \\xc3\\x89clair Latte 220ml   3648931069   \n",
       "\n",
       "                                                path  \\\n",
       "0  ../data/train_images/0000a68812bc7e98c42888dfb...   \n",
       "1  ../data/train_images/00039780dfc94d01db8676fe7...   \n",
       "2  ../data/train_images/000a190fdd715a2a36faed16e...   \n",
       "3  ../data/train_images/00117e4fc239b1b641ff08340...   \n",
       "4  ../data/train_images/00136d1cf4edede0203f32f05...   \n",
       "\n",
       "                             targets      img_prediction  \\\n",
       "0   train_129225211 train_2278313361   [train_129225211]   \n",
       "1  train_3386243561 train_3423213080  [train_3386243561]   \n",
       "2  train_2288590299 train_3803689425  [train_2288590299]   \n",
       "3  train_2406599165 train_3342059966  [train_2406599165]   \n",
       "4   train_3369186413 train_921438619  [train_3369186413]   \n",
       "\n",
       "                                     text_prediction  \\\n",
       "0                [train_129225211, train_2278313361]   \n",
       "1                                 [train_3386243561]   \n",
       "2                                 [train_2288590299]   \n",
       "3  [train_2406599165, train_3576714541, train_150...   \n",
       "4                                 [train_3369186413]   \n",
       "\n",
       "                                             matches  \n",
       "0                   train_129225211 train_2278313361  \n",
       "1                                   train_3386243561  \n",
       "2                                   train_2288590299  \n",
       "3  train_1508100548 train_1744956981 train_240659...  \n",
       "4                                   train_3369186413  "
      ]
     },
     "execution_count": 70,
     "metadata": {},
     "output_type": "execute_result"
    }
   ],
   "source": [
    "df.head()"
   ]
  },
  {
   "cell_type": "code",
   "execution_count": 14,
   "metadata": {},
   "outputs": [],
   "source": [
    "# Preparing Submission file\n",
    "df[['posting_id', 'matches']].to_csv('submission.csv', index=False)"
   ]
  }
 ],
 "metadata": {
  "kernelspec": {
   "display_name": "Python 3 (tf-gpu)",
   "language": "python",
   "name": "tf-gpu"
  },
  "language_info": {
   "codemirror_mode": {
    "name": "ipython",
    "version": 3
   },
   "file_extension": ".py",
   "mimetype": "text/x-python",
   "name": "python",
   "nbconvert_exporter": "python",
   "pygments_lexer": "ipython3",
   "version": "3.8.8"
  }
 },
 "nbformat": 4,
 "nbformat_minor": 4
}
